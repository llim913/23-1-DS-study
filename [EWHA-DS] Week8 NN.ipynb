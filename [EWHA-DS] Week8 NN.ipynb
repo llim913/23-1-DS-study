{
 "cells": [
  {
   "cell_type": "code",
   "execution_count": 1,
   "id": "cfdac8b1-c726-44aa-8ba3-cce7106bc913",
   "metadata": {},
   "outputs": [],
   "source": [
    "%config Completer.use_jedi = False"
   ]
  },
  {
   "cell_type": "code",
   "execution_count": 2,
   "id": "666f4bcb-df76-4c61-8549-fec3c93315fb",
   "metadata": {},
   "outputs": [],
   "source": [
    "import numpy as np\n",
    "import pandas as pd"
   ]
  },
  {
   "cell_type": "markdown",
   "id": "7368d2eb-b35c-4c23-9bfb-2debec4834aa",
   "metadata": {},
   "source": [
    "<h1>Neural Network - Multi Layer Perceptron</h1>"
   ]
  },
  {
   "cell_type": "markdown",
   "id": "95fd77aa-2d0e-4e9d-85ad-1380cfbf9ac9",
   "metadata": {},
   "source": [
    "<h2>1. XOR</h2>"
   ]
  },
  {
   "cell_type": "markdown",
   "id": "cf7199cd-6b3d-4e38-bdc0-58c467f2bd33",
   "metadata": {},
   "source": [
    "MLP는 기존의 기법들이 해결할 수 없었던 XOR 문제를 Backpropagation을 이용하여 풀 수 있다."
   ]
  },
  {
   "cell_type": "code",
   "execution_count": 3,
   "id": "04325b0c-c6db-43cb-b4ca-c601c28c4890",
   "metadata": {},
   "outputs": [],
   "source": [
    "X = np.array([[0,0], [0,1], [1,0],[1,1]], dtype=float)\n",
    "Y = np.array([[0],[1],[1],[0]], dtype=float)"
   ]
  },
  {
   "cell_type": "markdown",
   "id": "b4adc272-8f81-45fd-af17-7f1bc310de1f",
   "metadata": {
    "jp-MarkdownHeadingCollapsed": true,
    "tags": []
   },
   "source": [
    "<h3>1-1. Naive Bayesian</h3>"
   ]
  },
  {
   "cell_type": "code",
   "execution_count": 4,
   "id": "caf1291f-f29f-4031-b64c-6b725f1dcd91",
   "metadata": {},
   "outputs": [],
   "source": [
    "from sklearn.naive_bayes import GaussianNB"
   ]
  },
  {
   "cell_type": "code",
   "execution_count": 5,
   "id": "3d9c82b7-b34b-4816-bea1-24a684462f4d",
   "metadata": {},
   "outputs": [
    {
     "name": "stderr",
     "output_type": "stream",
     "text": [
      "/usr/local/lib/python3.8/dist-packages/sklearn/utils/validation.py:993: DataConversionWarning: A column-vector y was passed when a 1d array was expected. Please change the shape of y to (n_samples, ), for example using ravel().\n",
      "  y = column_or_1d(y, warn=True)\n"
     ]
    },
    {
     "data": {
      "text/plain": [
       "GaussianNB()"
      ]
     },
     "execution_count": 5,
     "metadata": {},
     "output_type": "execute_result"
    }
   ],
   "source": [
    "model = GaussianNB()\n",
    "model.fit(X, Y)"
   ]
  },
  {
   "cell_type": "code",
   "execution_count": 6,
   "id": "1701508f-f522-46f4-9ff3-f5e720ba6130",
   "metadata": {},
   "outputs": [
    {
     "name": "stdout",
     "output_type": "stream",
     "text": [
      "score: 0.5\n",
      "predictions: [0. 0. 0. 0.]\n",
      "expected: [0 1 1 0]\n"
     ]
    }
   ],
   "source": [
    "print('score:', model.score(X, Y))\n",
    "print('predictions:', model.predict(X))\n",
    "print('expected:', np.array([0, 1, 1, 0]))"
   ]
  },
  {
   "cell_type": "markdown",
   "id": "837babdb-3c51-425b-ad76-d135994b9852",
   "metadata": {
    "jp-MarkdownHeadingCollapsed": true,
    "tags": []
   },
   "source": [
    "<h3>1-2. Logistic Regression</h3>"
   ]
  },
  {
   "cell_type": "code",
   "execution_count": 7,
   "id": "a3e2a151-0ef8-4f5b-a4b1-257c90859b8b",
   "metadata": {},
   "outputs": [],
   "source": [
    "from sklearn.linear_model import LogisticRegression"
   ]
  },
  {
   "cell_type": "code",
   "execution_count": 8,
   "id": "1381c86c-f5d0-4753-b689-e091fdf9d6ed",
   "metadata": {},
   "outputs": [
    {
     "name": "stderr",
     "output_type": "stream",
     "text": [
      "/usr/local/lib/python3.8/dist-packages/sklearn/utils/validation.py:993: DataConversionWarning: A column-vector y was passed when a 1d array was expected. Please change the shape of y to (n_samples, ), for example using ravel().\n",
      "  y = column_or_1d(y, warn=True)\n"
     ]
    },
    {
     "data": {
      "text/plain": [
       "LogisticRegression()"
      ]
     },
     "execution_count": 8,
     "metadata": {},
     "output_type": "execute_result"
    }
   ],
   "source": [
    "model = LogisticRegression()\n",
    "model.fit(X, Y)"
   ]
  },
  {
   "cell_type": "code",
   "execution_count": 9,
   "id": "c58cd48e-1a86-4659-8808-e239eab5be36",
   "metadata": {},
   "outputs": [
    {
     "name": "stdout",
     "output_type": "stream",
     "text": [
      "score: 0.5\n",
      "predictions: [0. 0. 0. 0.]\n",
      "expected: [0 1 1 0]\n"
     ]
    }
   ],
   "source": [
    "print('score:', model.score(X, Y))\n",
    "print('predictions:', model.predict(X))\n",
    "print('expected:', np.array([0, 1, 1, 0]))"
   ]
  },
  {
   "cell_type": "markdown",
   "id": "2f01ebe3-3a14-417f-9cfd-1d9fefc9472c",
   "metadata": {},
   "source": [
    "<h3>1-3. Multi Layer Perceptron</h3>"
   ]
  },
  {
   "cell_type": "markdown",
   "id": "107351aa-f43a-4676-afa9-9be253457281",
   "metadata": {
    "jp-MarkdownHeadingCollapsed": true,
    "tags": []
   },
   "source": [
    "<h4>1-3-1. Scikit-learn</h4>"
   ]
  },
  {
   "cell_type": "code",
   "execution_count": 10,
   "id": "944a3040-f6cd-4733-9132-b6b5d064d51a",
   "metadata": {},
   "outputs": [],
   "source": [
    "from sklearn.neural_network import MLPClassifier"
   ]
  },
  {
   "cell_type": "code",
   "execution_count": 11,
   "id": "892545d9-7563-45aa-a3da-f32d91b5806a",
   "metadata": {},
   "outputs": [
    {
     "name": "stderr",
     "output_type": "stream",
     "text": [
      "/usr/local/lib/python3.8/dist-packages/sklearn/neural_network/_multilayer_perceptron.py:1109: DataConversionWarning: A column-vector y was passed when a 1d array was expected. Please change the shape of y to (n_samples, ), for example using ravel().\n",
      "  y = column_or_1d(y, warn=True)\n"
     ]
    },
    {
     "data": {
      "text/plain": [
       "MLPClassifier(hidden_layer_sizes=(4, 2), max_iter=10000)"
      ]
     },
     "execution_count": 11,
     "metadata": {},
     "output_type": "execute_result"
    }
   ],
   "source": [
    "model = MLPClassifier(activation='relu', max_iter=10000, hidden_layer_sizes=(4,2)) # 총 layer 수 4개, (first hidden layer node:4, second hidden layer node: 2)\n",
    "model.fit(X, Y)"
   ]
  },
  {
   "cell_type": "code",
   "execution_count": 12,
   "id": "0d01e874-8888-437a-89cd-a2103a7fda64",
   "metadata": {},
   "outputs": [
    {
     "name": "stdout",
     "output_type": "stream",
     "text": [
      "score: 1.0\n",
      "predictions: [0. 1. 1. 0.]\n",
      "expected: [0 1 1 0]\n"
     ]
    }
   ],
   "source": [
    "print('score:', model.score(X, Y))\n",
    "print('predictions:', model.predict(X))\n",
    "print('expected:', np.array([0, 1, 1, 0]))"
   ]
  },
  {
   "cell_type": "markdown",
   "id": "0f659184-15e7-4bb0-ac11-de6bfd70b952",
   "metadata": {
    "tags": []
   },
   "source": [
    "<h4>1-3-2. Tensorflow</h4>"
   ]
  },
  {
   "cell_type": "code",
   "execution_count": 13,
   "id": "78c0dd46-0b49-43bb-bbc6-e80f570aa184",
   "metadata": {},
   "outputs": [],
   "source": [
    "import os\n",
    "os.environ['CUDA_VISIBLE_DEVICES'] = '0, 1'"
   ]
  },
  {
   "cell_type": "code",
   "execution_count": 14,
   "id": "566677d6-b26a-476a-a8bb-a692b107bd7a",
   "metadata": {},
   "outputs": [
    {
     "name": "stderr",
     "output_type": "stream",
     "text": [
      "2023-06-07 22:22:36.877477: I tensorflow/stream_executor/platform/default/dso_loader.cc:49] Successfully opened dynamic library libcudart.so.11.0\n"
     ]
    }
   ],
   "source": [
    "import tensorflow as tf\n",
    "from tensorflow.keras.models import Model\n",
    "from tensorflow.keras.layers import Input, Dense\n",
    "from tensorflow.keras.optimizers import SGD"
   ]
  },
  {
   "cell_type": "code",
   "execution_count": 15,
   "id": "a476ef3c-0e6f-413d-8b4b-f6de93f7c793",
   "metadata": {},
   "outputs": [
    {
     "name": "stdout",
     "output_type": "stream",
     "text": [
      "INFO:tensorflow:Using MirroredStrategy with devices ('/job:localhost/replica:0/task:0/device:GPU:0', '/job:localhost/replica:0/task:0/device:GPU:1')\n"
     ]
    }
   ],
   "source": [
    "mirrored_strategy = tf.distribute.MirroredStrategy()"
   ]
  },
  {
   "cell_type": "code",
   "execution_count": 16,
   "id": "525bacde-5eca-4f23-9dd6-b58f770045f5",
   "metadata": {},
   "outputs": [
    {
     "name": "stdout",
     "output_type": "stream",
     "text": [
      "INFO:tensorflow:Reduce to /job:localhost/replica:0/task:0/device:CPU:0 then broadcast to ('/job:localhost/replica:0/task:0/device:CPU:0',).\n",
      "INFO:tensorflow:Reduce to /job:localhost/replica:0/task:0/device:CPU:0 then broadcast to ('/job:localhost/replica:0/task:0/device:CPU:0',).\n",
      "INFO:tensorflow:Reduce to /job:localhost/replica:0/task:0/device:CPU:0 then broadcast to ('/job:localhost/replica:0/task:0/device:CPU:0',).\n",
      "INFO:tensorflow:Reduce to /job:localhost/replica:0/task:0/device:CPU:0 then broadcast to ('/job:localhost/replica:0/task:0/device:CPU:0',).\n"
     ]
    }
   ],
   "source": [
    "with mirrored_strategy.scope():\n",
    "    input_x = Input(shape=(2,))\n",
    "    hidden_1 = Dense(4, activation='relu')(input_x)\n",
    "    hidden_2 = Dense(2, activation='relu')(hidden_1)\n",
    "    output = Dense(1, activation='sigmoid')(hidden_2)\n",
    "    \n",
    "    model = Model(input_x, output)\n",
    "    model.compile(loss='binary_crossentropy', optimizer=SGD(), metrics=['acc'])"
   ]
  },
  {
   "cell_type": "code",
   "execution_count": 17,
   "id": "315b1825-e158-42bf-9f82-5e11909c8bb3",
   "metadata": {
    "tags": []
   },
   "outputs": [
    {
     "name": "stdout",
     "output_type": "stream",
     "text": [
      "INFO:tensorflow:batch_all_reduce: 6 all-reduces with algorithm = nccl, num_packs = 1\n",
      "INFO:tensorflow:Reduce to /job:localhost/replica:0/task:0/device:CPU:0 then broadcast to ('/job:localhost/replica:0/task:0/device:CPU:0',).\n",
      "INFO:tensorflow:Reduce to /job:localhost/replica:0/task:0/device:CPU:0 then broadcast to ('/job:localhost/replica:0/task:0/device:CPU:0',).\n",
      "INFO:tensorflow:Reduce to /job:localhost/replica:0/task:0/device:CPU:0 then broadcast to ('/job:localhost/replica:0/task:0/device:CPU:0',).\n",
      "INFO:tensorflow:Reduce to /job:localhost/replica:0/task:0/device:CPU:0 then broadcast to ('/job:localhost/replica:0/task:0/device:CPU:0',).\n",
      "INFO:tensorflow:batch_all_reduce: 6 all-reduces with algorithm = nccl, num_packs = 1\n",
      "INFO:tensorflow:Reduce to /job:localhost/replica:0/task:0/device:CPU:0 then broadcast to ('/job:localhost/replica:0/task:0/device:CPU:0',).\n",
      "INFO:tensorflow:Reduce to /job:localhost/replica:0/task:0/device:CPU:0 then broadcast to ('/job:localhost/replica:0/task:0/device:CPU:0',).\n"
     ]
    }
   ],
   "source": [
    "history = model.fit(X, Y, epochs=10000, verbose=0)"
   ]
  },
  {
   "cell_type": "code",
   "execution_count": 18,
   "id": "ed2a01b2-fcf4-496f-b119-5bba60d2ce01",
   "metadata": {},
   "outputs": [
    {
     "data": {
      "text/plain": [
       "<matplotlib.legend.Legend at 0x7f1fc6126d60>"
      ]
     },
     "execution_count": 18,
     "metadata": {},
     "output_type": "execute_result"
    },
    {
     "data": {
      "image/png": "[encoded data removed]",
      "text/plain": [
       "<Figure size 1440x720 with 1 Axes>"
      ]
     },
     "metadata": {
      "needs_background": "light"
     },
     "output_type": "display_data"
    }
   ],
   "source": [
    "import matplotlib.pyplot as plt\n",
    "\n",
    "x = np.arange(0, 10000, 1)\n",
    "plt.figure(figsize=(20,10))\n",
    "plt.plot(history.history['loss'], label='loss')\n",
    "plt.plot(history.history['acc'], label='accuracy')\n",
    "plt.legend()"
   ]
  },
  {
   "cell_type": "code",
   "execution_count": 19,
   "id": "0867843e-fdbe-4939-a024-d626a1cb823f",
   "metadata": {},
   "outputs": [],
   "source": [
    "pred_y = model.predict(X)"
   ]
  },
  {
   "cell_type": "code",
   "execution_count": 20,
   "id": "928fa937-4ddc-428a-bfcb-28c3ce75ccee",
   "metadata": {},
   "outputs": [
    {
     "data": {
      "text/plain": [
       "array([[0.01938428],\n",
       "       [0.9983552 ],\n",
       "       [0.9980318 ],\n",
       "       [0.02963354]], dtype=float32)"
      ]
     },
     "execution_count": 20,
     "metadata": {},
     "output_type": "execute_result"
    }
   ],
   "source": [
    "pred_y"
   ]
  },
  {
   "cell_type": "code",
   "execution_count": 21,
   "id": "a6633369-62d9-4016-9354-8da647a253fb",
   "metadata": {},
   "outputs": [],
   "source": [
    "pred_y = [1 if p > 0.9 else 0 for p in pred_y]"
   ]
  },
  {
   "cell_type": "code",
   "execution_count": 22,
   "id": "d2b4f36c-e242-4625-8fdc-44372bf4c92c",
   "metadata": {},
   "outputs": [],
   "source": [
    "from sklearn.metrics import confusion_matrix"
   ]
  },
  {
   "cell_type": "code",
   "execution_count": 23,
   "id": "95bf0311-96d7-431b-bcaa-304fd529ebf5",
   "metadata": {},
   "outputs": [],
   "source": [
    "import seaborn as sb"
   ]
  },
  {
   "cell_type": "code",
   "execution_count": 24,
   "id": "ef966244-6c52-4a08-ac8d-da6fd5302ba3",
   "metadata": {},
   "outputs": [
    {
     "data": {
      "text/plain": [
       "<AxesSubplot:>"
      ]
     },
     "execution_count": 24,
     "metadata": {},
     "output_type": "execute_result"
    },
    {
     "data": {
      "image/png": "[encoded data removed]",
      "text/plain": [
       "<Figure size 504x432 with 2 Axes>"
      ]
     },
     "metadata": {
      "needs_background": "light"
     },
     "output_type": "display_data"
    }
   ],
   "source": [
    "plt.figure(figsize=(7,6))\n",
    "sb.heatmap(confusion_matrix(pred_y, Y), annot=True)"
   ]
  },
  {
   "cell_type": "markdown",
   "id": "721c530e-08db-4aba-a4cc-312f09457bdd",
   "metadata": {
    "tags": []
   },
   "source": [
    "<h4>1-3-3. pyTorch</h4>"
   ]
  },
  {
   "cell_type": "code",
   "execution_count": 4,
   "id": "00fd9a18-5bcd-4139-8a54-0d608c22780e",
   "metadata": {},
   "outputs": [],
   "source": [
    "import os\n",
    "os.environ['CUDA_VISIBLE_DEVICES'] = '0'"
   ]
  },
  {
   "cell_type": "code",
   "execution_count": 5,
   "id": "96b3e2e6-eba7-437c-83f8-725ae9327056",
   "metadata": {},
   "outputs": [],
   "source": [
    "import torch\n",
    "import torch.nn as nn\n",
    "from torch.nn import DataParallel\n",
    "import torch.optim as optim"
   ]
  },
  {
   "cell_type": "code",
   "execution_count": 6,
   "id": "2e3c9d47-d4af-4a8e-b9ae-a3bb751f9cd5",
   "metadata": {},
   "outputs": [],
   "source": [
    "device = torch.device('cuda' if torch.cuda.is_available() else 'cpu')"
   ]
  },
  {
   "cell_type": "code",
   "execution_count": 7,
   "id": "6495f592-4ed3-4282-9810-a7e18f5f6b6c",
   "metadata": {},
   "outputs": [],
   "source": [
    "class smallMLP(nn.Module):\n",
    "    def __init__(self, num_classes=1):\n",
    "        super(smallMLP, self).__init__()\n",
    "        self.input = nn.Linear(2, 10, bias=True) # bias는 만일 False로 설정되어 있으면 layer는 bias를 학습하지 않는다. 기본값은 True이다.\n",
    "        self.hidden1 = nn.Linear(10, 10, bias=True)\n",
    "        self.output = nn.Linear(10, 1, bias=True)\n",
    "        self.sigmoid = nn.Sigmoid()\n",
    "        \n",
    "    def forward(self, x):\n",
    "        x = self.sigmoid(self.input(x))\n",
    "        x = self.sigmoid(self.hidden1(x))\n",
    "        x = self.sigmoid(self.output(x))\n",
    "        return x\n",
    "    "
   ]
  },
  {
   "cell_type": "code",
   "execution_count": 8,
   "id": "09001881-e936-4fbe-b337-7d7c99eee242",
   "metadata": {},
   "outputs": [],
   "source": [
    "net = smallMLP(1).to(device)\n",
    "# net = nn.DataParallel(net).to(device)"
   ]
  },
  {
   "cell_type": "code",
   "execution_count": 9,
   "id": "08becbac-5fa1-4fbf-a464-63a83f5d396b",
   "metadata": {},
   "outputs": [],
   "source": [
    "criterion = nn.BCELoss().to(device)\n",
    "optimizer = optim.SGD(net.parameters(), lr=1)"
   ]
  },
  {
   "cell_type": "code",
   "execution_count": 10,
   "id": "280afe48-108c-4f01-94e9-8792c61d4744",
   "metadata": {},
   "outputs": [],
   "source": [
    "X = torch.FloatTensor(X).to(device)\n",
    "Y = torch.FloatTensor(Y).to(device)"
   ]
  },
  {
   "cell_type": "code",
   "execution_count": 11,
   "id": "62f07a3b-8fe2-403a-ab0f-5c8c3b0b63e6",
   "metadata": {
    "tags": []
   },
   "outputs": [
    {
     "name": "stdout",
     "output_type": "stream",
     "text": [
      "[1] loss: 0.695\n",
      "[101] loss: 0.693\n",
      "[201] loss: 0.693\n",
      "[301] loss: 0.693\n",
      "[401] loss: 0.693\n",
      "[501] loss: 0.693\n",
      "[601] loss: 0.692\n",
      "[701] loss: 0.692\n",
      "[801] loss: 0.691\n",
      "[901] loss: 0.687\n",
      "[1001] loss: 0.666\n",
      "[1101] loss: 0.427\n",
      "[1201] loss: 0.042\n",
      "[1301] loss: 0.014\n",
      "[1401] loss: 0.008\n",
      "[1501] loss: 0.005\n",
      "[1601] loss: 0.004\n",
      "[1701] loss: 0.003\n",
      "[1801] loss: 0.003\n",
      "[1901] loss: 0.002\n",
      "[2001] loss: 0.002\n",
      "[2101] loss: 0.002\n",
      "[2201] loss: 0.001\n",
      "[2301] loss: 0.001\n",
      "[2401] loss: 0.001\n",
      "[2501] loss: 0.001\n",
      "[2601] loss: 0.001\n",
      "[2701] loss: 0.001\n",
      "[2801] loss: 0.001\n",
      "[2901] loss: 0.001\n",
      "[3001] loss: 0.001\n",
      "[3101] loss: 0.001\n",
      "[3201] loss: 0.001\n",
      "[3301] loss: 0.001\n",
      "[3401] loss: 0.001\n",
      "[3501] loss: 0.001\n",
      "[3601] loss: 0.001\n",
      "[3701] loss: 0.001\n",
      "[3801] loss: 0.000\n",
      "[3901] loss: 0.000\n",
      "[4001] loss: 0.000\n",
      "[4101] loss: 0.000\n",
      "[4201] loss: 0.000\n",
      "[4301] loss: 0.000\n",
      "[4401] loss: 0.000\n",
      "[4501] loss: 0.000\n",
      "[4601] loss: 0.000\n",
      "[4701] loss: 0.000\n",
      "[4801] loss: 0.000\n",
      "[4901] loss: 0.000\n",
      "[5001] loss: 0.000\n",
      "[5101] loss: 0.000\n",
      "[5201] loss: 0.000\n",
      "[5301] loss: 0.000\n",
      "[5401] loss: 0.000\n",
      "[5501] loss: 0.000\n",
      "[5601] loss: 0.000\n",
      "[5701] loss: 0.000\n",
      "[5801] loss: 0.000\n",
      "[5901] loss: 0.000\n",
      "[6001] loss: 0.000\n",
      "[6101] loss: 0.000\n",
      "[6201] loss: 0.000\n",
      "[6301] loss: 0.000\n",
      "[6401] loss: 0.000\n",
      "[6501] loss: 0.000\n",
      "[6601] loss: 0.000\n",
      "[6701] loss: 0.000\n",
      "[6801] loss: 0.000\n",
      "[6901] loss: 0.000\n",
      "[7001] loss: 0.000\n",
      "[7101] loss: 0.000\n",
      "[7201] loss: 0.000\n",
      "[7301] loss: 0.000\n",
      "[7401] loss: 0.000\n",
      "[7501] loss: 0.000\n",
      "[7601] loss: 0.000\n",
      "[7701] loss: 0.000\n",
      "[7801] loss: 0.000\n",
      "[7901] loss: 0.000\n",
      "[8001] loss: 0.000\n",
      "[8101] loss: 0.000\n",
      "[8201] loss: 0.000\n",
      "[8301] loss: 0.000\n",
      "[8401] loss: 0.000\n",
      "[8501] loss: 0.000\n",
      "[8601] loss: 0.000\n",
      "[8701] loss: 0.000\n",
      "[8801] loss: 0.000\n",
      "[8901] loss: 0.000\n",
      "[9001] loss: 0.000\n",
      "[9101] loss: 0.000\n",
      "[9201] loss: 0.000\n",
      "[9301] loss: 0.000\n",
      "[9401] loss: 0.000\n",
      "[9501] loss: 0.000\n",
      "[9601] loss: 0.000\n",
      "[9701] loss: 0.000\n",
      "[9801] loss: 0.000\n",
      "[9901] loss: 0.000\n"
     ]
    }
   ],
   "source": [
    "total = 0\n",
    "\n",
    "for epoch in range(10000):\n",
    "        \n",
    "    optimizer.zero_grad()\n",
    "    outputs = net(X)\n",
    "    \n",
    "    loss = criterion(outputs, Y)\n",
    "    loss.backward()\n",
    "        \n",
    "    optimizer.step()\n",
    "    \n",
    "    if epoch % 100 == 0:\n",
    "        print('[%d] loss: %.3f' %(epoch +1, loss.item()))"
   ]
  },
  {
   "cell_type": "code",
   "execution_count": 26,
   "id": "f88ce111-46e0-43e8-8db3-536f8f002905",
   "metadata": {},
   "outputs": [
    {
     "name": "stdout",
     "output_type": "stream",
     "text": [
      "Accuracy of the network on the test images: 100 %\n"
     ]
    }
   ],
   "source": [
    "correct = 0\n",
    "total = 4\n",
    "\n",
    "with torch.no_grad():\n",
    "    outputs = net(X)\n",
    "\n",
    "    predicted = torch.Tensor([[1] if d > 0.9 else [0] for d in outputs.data])\n",
    "    # total += labels.size(0)\n",
    "    correct += (predicted == Y.to('cpu')).sum().item()\n",
    "    \n",
    "\n",
    "print(f'Accuracy of the network on the test images: {100 * correct // total} %')"
   ]
  },
  {
   "cell_type": "code",
   "execution_count": null,
   "id": "fb979da0-6685-4f88-a858-a8fb0519814c",
   "metadata": {},
   "outputs": [],
   "source": []
  }
 ],
 "metadata": {
  "kernelspec": {
   "display_name": "Python 3 (ipykernel)",
   "language": "python",
   "name": "python3"
  },
  "language_info": {
   "codemirror_mode": {
    "name": "ipython",
    "version": 3
   },
   "file_extension": ".py",
   "mimetype": "text/x-python",
   "name": "python",
   "nbconvert_exporter": "python",
   "pygments_lexer": "ipython3",
   "version": "3.8.0"
  }
 },
 "nbformat": 4,
 "nbformat_minor": 5
}
